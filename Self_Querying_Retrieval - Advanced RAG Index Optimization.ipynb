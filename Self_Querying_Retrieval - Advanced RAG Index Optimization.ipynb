{
 "cells": [
  {
   "cell_type": "markdown",
   "metadata": {
    "id": "HqwsGJDhvAQ5"
   },
   "source": [
    "# Self Querying Retrieval (SQR)\n",
    "\n",
    "Traditional retrieval systems often require complex query languages or predefined search facets. Self-querying retrieval (SQR), on the other hand, \n",
    "offers a more natural and user-friendly approach. Here’s why it’s valuable:\n",
    "\n",
    "Natural language queries: SQR allows users to pose their queries in natural language, making the interaction more intuitive and accessible. This is \n",
    "akin to having a conversation with a librarian, where users can ask questions in their own words without needing to learn complex query languages\n",
    "or specific search facets.\n",
    "\n",
    "Advanced retrieval capabilities: Unlike basic keyword searches, SQR boasts advanced retrieval capabilities. It can search documents based on both \n",
    "their content and metadata (author, genre, year, etc.). This dual approach allows for highly precise results. Imagine searching for a specific legal \n",
    "document; SQR can not only find documents containing relevant keywords but also narrow them down by author (judge) or year (case date) for a perfect\n",
    "match.\n",
    "\n",
    "Flexibility: SQR systems can adapt to user intent by refining search results based on follow-up questions or additional inputs. This, therefore, \n",
    "helps in narrowing down search results to better match the user’s needs.\n",
    "\n",
    "What is SQR ?\n",
    "\n",
    "Self-querying retrieval (SQR) leverages the power of LLMs to understand the user’s intent within a document collection. Here’s the core idea:\n",
    "\n",
    "       Document representation: Word embeddings convert each document into a numerical representation. This allows for efficient comparison \n",
    "       between documents.\n",
    "\n",
    "       User query: The user submits a natural language query expressing their information need.\n",
    "\n",
    "       LLM-driven retrieval: The LLM analyzes the query and the document representations. It then retrieves documents that best match the user’s intent.\n",
    "\n",
    "       Refine and repeat: The user can refine their query or ask follow-up questions for a more focused search based on the retrieved documents.\n",
    "\n"
   ]
  },
  {
   "cell_type": "markdown",
   "metadata": {
    "id": "bzRKezxKlww4"
   },
   "source": [
    "## 1. Import necessary libraries"
   ]
  },
  {
   "cell_type": "code",
   "execution_count": null,
   "metadata": {
    "id": "IfCt8bhHNu9u"
   },
   "outputs": [],
   "source": [
    "import os\n",
    "from langchain.schema import Document\n",
    "from langchain_openai import OpenAIEmbeddings\n",
    "from langchain.vectorstores import Chroma\n",
    "from langchain_openai import OpenAI\n",
    "from langchain.retrievers.self_query.base import SelfQueryRetriever\n",
    "from langchain.chains.query_constructor.base import AttributeInfo"
   ]
  },
  {
   "cell_type": "markdown",
   "metadata": {
    "id": "st13kScAmRRQ"
   },
   "source": [
    "## 2. Set up the OpenAI API key"
   ]
  },
  {
   "cell_type": "code",
   "execution_count": null,
   "metadata": {
    "id": "TnIVcOeKmSW1"
   },
   "outputs": [],
   "source": [
    "OPENAI_API_KEY = os.environ[\"OPENAI_API_KEY\"] = \"\"  # Add your OpenAI API key\n",
    "if OPENAI_API_KEY == \"\":\n",
    "    raise ValueError(\"Please set the OPENAI_API_KEY environment variable\")"
   ]
  },
  {
   "cell_type": "markdown",
   "metadata": {
    "id": "YTDxLMs_vg8K"
   },
   "source": [
    "## 3. Example data with metadata\n",
    "\n",
    "\"\"\"\n",
    "Code Explanation : \n",
    "\n",
    "initializes a list named docs that contains multiple Document objects, each representing a book. Each Document object has page_content describing\n",
    "the narrative and metadata that includes title, author, year, genre, rating, language, and country. The books ranged from fiction and historical \n",
    "fiction to romance, adventure, dystopian, thriller, and magical realism, authored by renowned writers from different countries and languages.\n",
    "\n",
    "\"\"\""
   ]
  },
  {
   "cell_type": "code",
   "execution_count": null,
   "metadata": {
    "id": "eAazrw6RP9Y5"
   },
   "outputs": [],
   "source": [
    "docs = [\n",
    "    Document(\n",
    "        page_content=\"A complex, layered narrative exploring themes of identity and belonging\",\n",
    "        metadata={\"title\":\"The Namesake\", \"author\": \"Jhumpa Lahiri\", \"year\": 2003, \"genre\": \"Fiction\", \"rating\": 4.5, \"language\":\"English\", \"country\":\"USA\"},\n",
    "    ),\n",
    "    Document(\n",
    "        page_content=\"A luxurious, heartfelt novel with themes of love and loss set against a historical backdrop\",\n",
    "        metadata={\"title\":\"The Nightingale\", \"author\": \"Kristin Hannah\", \"year\": 2015, \"genre\": \"Historical Fiction\", \"rating\": 4.8, \"language\":\"English\", \"country\":\"France\"},\n",
    "    ),\n",
    "    Document(\n",
    "        page_content=\"A full-bodied epic with rich characters and a sprawling plot\",\n",
    "        metadata={\"title\":\"War and Peace\", \"author\": \"Leo Tolstoy\", \"year\": 1869, \"genre\": \"Historical Fiction\", \"rating\": 4.7, \"language\":\"Russian\", \"country\":\"Russia\"},\n",
    "    ),\n",
    "    Document(\n",
    "        page_content=\"An elegant, balanced narrative with intricate character development and subtle themes\",\n",
    "        metadata={\"title\":\"Pride and Prejudice\", \"author\": \"Jane Austen\", \"year\": 1813, \"genre\": \"Romance\", \"rating\": 4.6, \"language\":\"English\", \"country\":\"UK\"},\n",
    "    ),\n",
    "    Document(\n",
    "        page_content=\"A highly regarded novel with deep themes and a nuanced exploration of human nature\",\n",
    "        metadata={\"title\":\"To Kill a Mockingbird\", \"author\": \"Harper Lee\", \"year\": 1960, \"genre\": \"Fiction\", \"rating\": 4.9, \"language\":\"English\", \"country\":\"USA\"},\n",
    "    ),\n",
    "    Document(\n",
    "        page_content=\"A crisp, engaging story with vibrant characters and a compelling plot\",\n",
    "        metadata={\"title\":\"The Alchemist\", \"author\": \"Paulo Coelho\", \"year\": 1988, \"genre\": \"Adventure\", \"rating\": 4.4, \"language\":\"Portuguese\", \"country\":\"Brazil\"},\n",
    "    ),\n",
    "    Document(\n",
    "        page_content=\"A rich, complex narrative set in a dystopian future with strong thematic elements\",\n",
    "        metadata={\"title\":\"1984\", \"author\": \"George Orwell\", \"year\": 1949, \"genre\": \"Dystopian\", \"rating\": 4.7, \"language\":\"English\", \"country\":\"UK\"},\n",
    "    ),\n",
    "    Document(\n",
    "        page_content=\"An intense, gripping story with dark themes and intricate plot twists\",\n",
    "        metadata={\"title\":\"Gone Girl\", \"author\": \"Gillian Flynn\", \"year\": 2012, \"genre\": \"Thriller\", \"rating\": 4.3, \"language\":\"English\", \"country\":\"USA\"},\n",
    "    ),\n",
    "    Document(\n",
    "        page_content=\"An exotic, enchanting tale with rich descriptions and an intricate plot\",\n",
    "        metadata={\"title\":\"One Hundred Years of Solitude\", \"author\": \"Gabriel García Márquez\", \"year\": 1967, \"genre\": \"Magical Realism\", \"rating\": 4.8, \"language\":\"Spanish\", \"country\":\"Colombia\"},\n",
    "    ),\n",
    "    # ... (add more book documents as needed)\n",
    "]"
   ]
  },
  {
   "cell_type": "markdown",
   "metadata": {
    "id": "uHhF_6_Emc4i"
   },
   "source": [
    "## 4. Define the embedding function\n",
    "\n",
    "\"\"\"\n",
    "Creating an instance of OpenAIEmbeddings which converts document text into numerical representations suitable for retrieval.\n",
    "\n",
    "\"\"\""
   ]
  },
  {
   "cell_type": "code",
   "execution_count": null,
   "metadata": {
    "id": "1cfG54RJl5bA"
   },
   "outputs": [],
   "source": [
    "embeddings = OpenAIEmbeddings()"
   ]
  },
  {
   "cell_type": "markdown",
   "metadata": {
    "id": "Inc4dMahnGI-"
   },
   "source": [
    "## 5. Initializing vector store\n",
    "\n",
    "\"\"\"\n",
    "Creating a vector store using the Chroma library with the document embeddings. This store will hold the document embeddings for efficient retrieval.\n",
    "\"\"\""
   ]
  },
  {
   "cell_type": "code",
   "execution_count": null,
   "metadata": {
    "id": "931i8bbznJ0T"
   },
   "outputs": [],
   "source": [
    "vectorstore = Chroma.from_documents(docs, embeddings)"
   ]
  },
  {
   "cell_type": "markdown",
   "metadata": {
    "id": "M-DU2BD6sPJj"
   },
   "source": [
    "## 6. Create LLM and retriever\n",
    "\n",
    "\"\"\"\n",
    "Code Explanation :\n",
    "\n",
    "Defines the metadata_field_info list, which specifies metadata attributes used for retrieval, such as title, author, year, genre, rating, language,\n",
    "and country, along with their descriptions and data types.\n",
    "\n",
    "Specifies document_content_description which provides a brief description of the document content.\n",
    "\n",
    "Creates an instance of OpenAI with the temperature set to 0 for more factual responses.\n",
    "\n",
    "Creates a SelfQueryRetriever object named retriever. This is the core component for self-query retrieval (SQR) functionality, using the following arguments:\n",
    "\n",
    "          llm: The OpenAI LLM instance created earlier.\n",
    "\n",
    "          vectorstore: The vector store containing document embeddings.\n",
    "\n",
    "          document_content_description: The description of the document content.\n",
    "\n",
    "          metadata_field_info: The list defining the searchable metadata attributes.\n",
    "\n",
    "          verbose=True: Enables verbose output during retrieval, showing the reasoning behind retrieved documents.\n",
    "\n",
    "\"\"\"\n"
   ]
  },
  {
   "cell_type": "code",
   "execution_count": null,
   "metadata": {
    "id": "GWW_t_MFsKC8"
   },
   "outputs": [],
   "source": [
    "metadata_field_info = [\n",
    "    AttributeInfo(\n",
    "        name=\"title\",\n",
    "        description=\"The title of the book\",\n",
    "        type=\"string or list[string]\",\n",
    "    ),\n",
    "    AttributeInfo(\n",
    "        name=\"author\",\n",
    "        description=\"The author of the book\",\n",
    "        type=\"string or list[string]\",\n",
    "    ),\n",
    "    AttributeInfo(\n",
    "        name=\"year\",\n",
    "        description=\"The year the book was published\",\n",
    "        type=\"integer\",\n",
    "    ),\n",
    "    AttributeInfo(\n",
    "        name=\"genre\",\n",
    "        description=\"The genre of the book\",\n",
    "        type=\"string or list[string]\",\n",
    "    ),\n",
    "    AttributeInfo(\n",
    "        name=\"rating\",\n",
    "        description=\"The rating of the book (1-5 scale)\",\n",
    "        type=\"float\",\n",
    "    ),\n",
    "    AttributeInfo(\n",
    "        name=\"language\",\n",
    "        description=\"The language the book is written in\",\n",
    "        type=\"string\",\n",
    "    ),\n",
    "    AttributeInfo(\n",
    "        name=\"country\",\n",
    "        description=\"The country the author is from\",\n",
    "        type=\"string\",\n",
    "    ),\n",
    "]\n",
    "\n",
    "document_content_description = \"Brief description of the book\""
   ]
  },
  {
   "cell_type": "code",
   "execution_count": null,
   "metadata": {
    "id": "Cjo9-YU5rCnv"
   },
   "outputs": [],
   "source": [
    "llm = OpenAI(temperature=0)\n",
    "\n",
    "retriever = SelfQueryRetriever.from_llm(\n",
    "    llm,\n",
    "    vectorstore,\n",
    "    document_content_description,\n",
    "    metadata_field_info,\n",
    "    verbose=True\n",
    ")"
   ]
  },
  {
   "cell_type": "markdown",
   "metadata": {
    "id": "EnaHLwL7n-Qs"
   },
   "source": [
    "## 7. Example queries\n",
    "\n",
    "\"\"\"\n",
    "Code Explanation : \n",
    "\n",
    "This retrieves documents based on relevant keywords in the query (“highly rated historical fiction books”).\n",
    "\n",
    "This combines keyword search with filtering based on metadata (“deep themes” and “rating above 4.5”).\n",
    "\n",
    "This retrieves documents based on concepts derived from the query text (“complex characters” and “gripping plot”).\n",
    "\n",
    "This retrieves documents using a specific metadata field (“books from the USA”).\n",
    "\n",
    "This combines multiple filters for a more precise search (“published after 2003 but before 2015 with deep themes and a high rating”).\n",
    "\n",
    "This allows specifying the maximum number of documents retrieved (e.g., “two books that have a rating above 4.8” or \"two books that come from the USA or UK”).\n",
    "\n",
    "\"\"\"\n"
   ]
  },
  {
   "cell_type": "markdown",
   "metadata": {
    "id": "o2D8zdBzn_H7"
   },
   "source": [
    "### 7.1 Basic query"
   ]
  },
  {
   "cell_type": "code",
   "execution_count": 9,
   "metadata": {
    "id": "6fNUskHNsRsL"
   },
   "outputs": [
    {
     "data": {
      "text/plain": [
       "[Document(page_content='A luxurious, heartfelt novel with themes of love and loss set against a historical backdrop', metadata={'title': 'The Nightingale', 'author': 'Kristin Hannah', 'year': 2015, 'genre': 'Historical Fiction', 'rating': 4.8, 'language': 'English', 'country': 'France'}),\n",
       " Document(page_content='A rich, complex narrative set in a dystopian future with strong thematic elements', metadata={'title': '1984', 'author': 'George Orwell', 'year': 1949, 'genre': 'Dystopian', 'rating': 4.7, 'language': 'English', 'country': 'UK'}),\n",
       " Document(page_content='An exotic, enchanting tale with rich descriptions and an intricate plot', metadata={'title': 'One Hundred Years of Solitude', 'author': 'Gabriel García Márquez', 'year': 1967, 'genre': 'Magical Realism', 'rating': 4.8, 'language': 'Spanish', 'country': 'Colombia'}),\n",
       " Document(page_content='An intense, gripping story with dark themes and intricate plot twists', metadata={'title': 'Gone Girl', 'author': 'Gillian Flynn', 'year': 2012, 'genre': 'Thriller', 'rating': 4.3, 'language': 'English', 'country': 'USA'})]"
      ]
     },
     "execution_count": 9,
     "metadata": {},
     "output_type": "execute_result"
    }
   ],
   "source": [
    "retriever.invoke(\"What are some highly rated historical fiction books\")"
   ]
  },
  {
   "cell_type": "markdown",
   "metadata": {
    "id": "owYFkWyOoD1M"
   },
   "source": [
    "### 7.2 Query with filtering"
   ]
  },
  {
   "cell_type": "code",
   "execution_count": 10,
   "metadata": {
    "id": "xZlJud7_s3Ng"
   },
   "outputs": [
    {
     "data": {
      "text/plain": [
       "[Document(page_content='A highly regarded novel with deep themes and a nuanced exploration of human nature', metadata={'title': 'To Kill a Mockingbird', 'author': 'Harper Lee', 'year': 1960, 'genre': 'Fiction', 'rating': 4.9, 'language': 'English', 'country': 'USA'}),\n",
       " Document(page_content='An elegant, balanced narrative with intricate character development and subtle themes', metadata={'title': 'Pride and Prejudice', 'author': 'Jane Austen', 'year': 1813, 'genre': 'Romance', 'rating': 4.6, 'language': 'English', 'country': 'UK'}),\n",
       " Document(page_content='A rich, complex narrative set in a dystopian future with strong thematic elements', metadata={'title': '1984', 'author': 'George Orwell', 'year': 1949, 'genre': 'Dystopian', 'rating': 4.7, 'language': 'English', 'country': 'UK'}),\n",
       " Document(page_content='A luxurious, heartfelt novel with themes of love and loss set against a historical backdrop', metadata={'title': 'The Nightingale', 'author': 'Kristin Hannah', 'year': 2015, 'genre': 'Historical Fiction', 'rating': 4.8, 'language': 'English', 'country': 'France'})]"
      ]
     },
     "execution_count": 10,
     "metadata": {},
     "output_type": "execute_result"
    }
   ],
   "source": [
    "retriever.invoke(\"I want a book with deep themes and a rating above 4.5\")"
   ]
  },
  {
   "cell_type": "markdown",
   "metadata": {
    "id": "CZ33W-fLoHyU"
   },
   "source": [
    "### 7.3 Query with composite filter"
   ]
  },
  {
   "cell_type": "code",
   "execution_count": 11,
   "metadata": {
    "id": "fcGVyKpwtOAJ"
   },
   "outputs": [
    {
     "data": {
      "text/plain": [
       "[Document(page_content='An intense, gripping story with dark themes and intricate plot twists', metadata={'title': 'Gone Girl', 'author': 'Gillian Flynn', 'year': 2012, 'genre': 'Thriller', 'rating': 4.3, 'language': 'English', 'country': 'USA'}),\n",
       " Document(page_content='A crisp, engaging story with vibrant characters and a compelling plot', metadata={'title': 'The Alchemist', 'author': 'Paulo Coelho', 'year': 1988, 'genre': 'Adventure', 'rating': 4.4, 'language': 'Portuguese', 'country': 'Brazil'}),\n",
       " Document(page_content='An elegant, balanced narrative with intricate character development and subtle themes', metadata={'title': 'Pride and Prejudice', 'author': 'Jane Austen', 'year': 1813, 'genre': 'Romance', 'rating': 4.6, 'language': 'English', 'country': 'UK'}),\n",
       " Document(page_content='A full-bodied epic with rich characters and a sprawling plot', metadata={'title': 'War and Peace', 'author': 'Leo Tolstoy', 'year': 1869, 'genre': 'Historical Fiction', 'rating': 4.7, 'language': 'Russian', 'country': 'Russia'})]"
      ]
     },
     "execution_count": 11,
     "metadata": {},
     "output_type": "execute_result"
    }
   ],
   "source": [
    "retriever.invoke(\"I want a book with complex characters and a gripping plot\")"
   ]
  },
  {
   "cell_type": "markdown",
   "metadata": {
    "id": "hpFjw4Hqrwn4"
   },
   "source": [
    "### 7.4 Query with country filter"
   ]
  },
  {
   "cell_type": "code",
   "execution_count": 12,
   "metadata": {
    "id": "C5Qw1u9FtSRm"
   },
   "outputs": [
    {
     "data": {
      "text/plain": [
       "[Document(page_content='A complex, layered narrative exploring themes of identity and belonging', metadata={'title': 'The Namesake', 'author': 'Jhumpa Lahiri', 'year': 2003, 'genre': 'Fiction', 'rating': 4.5, 'language': 'English', 'country': 'USA'}),\n",
       " Document(page_content='An intense, gripping story with dark themes and intricate plot twists', metadata={'title': 'Gone Girl', 'author': 'Gillian Flynn', 'year': 2012, 'genre': 'Thriller', 'rating': 4.3, 'language': 'English', 'country': 'USA'}),\n",
       " Document(page_content='A highly regarded novel with deep themes and a nuanced exploration of human nature', metadata={'title': 'To Kill a Mockingbird', 'author': 'Harper Lee', 'year': 1960, 'genre': 'Fiction', 'rating': 4.9, 'language': 'English', 'country': 'USA'})]"
      ]
     },
     "execution_count": 12,
     "metadata": {},
     "output_type": "execute_result"
    }
   ],
   "source": [
    "retriever.invoke(\"What books come from the USA?\")"
   ]
  },
  {
   "cell_type": "markdown",
   "metadata": {
    "id": "wGRFoHhWrzZT"
   },
   "source": [
    "### 7.5 Query with year range and theme filter"
   ]
  },
  {
   "cell_type": "code",
   "execution_count": 13,
   "metadata": {
    "id": "RBwo26n0taDI"
   },
   "outputs": [
    {
     "data": {
      "text/plain": [
       "[Document(page_content='An intense, gripping story with dark themes and intricate plot twists', metadata={'title': 'Gone Girl', 'author': 'Gillian Flynn', 'year': 2012, 'genre': 'Thriller', 'rating': 4.3, 'language': 'English', 'country': 'USA'})]"
      ]
     },
     "execution_count": 13,
     "metadata": {},
     "output_type": "execute_result"
    }
   ],
   "source": [
    "retriever.invoke(\"What's a book published after 2003 but before 2015 with deep themes and a high rating\")"
   ]
  },
  {
   "cell_type": "markdown",
   "metadata": {
    "id": "pN6svT-_oJY_"
   },
   "source": [
    "### 7.6 Retrieval with limiting"
   ]
  },
  {
   "cell_type": "code",
   "execution_count": 14,
   "metadata": {
    "id": "oH3JPClFthXq"
   },
   "outputs": [],
   "source": [
    "retriever = SelfQueryRetriever.from_llm(\n",
    "    llm,\n",
    "    vectorstore,\n",
    "    document_content_description,\n",
    "    metadata_field_info,\n",
    "    enable_limit=True,\n",
    "    verbose=True,\n",
    ")"
   ]
  },
  {
   "cell_type": "code",
   "execution_count": 15,
   "metadata": {
    "id": "0D5eUK47txEs"
   },
   "outputs": [
    {
     "data": {
      "text/plain": [
       "[Document(page_content='A highly regarded novel with deep themes and a nuanced exploration of human nature', metadata={'title': 'To Kill a Mockingbird', 'author': 'Harper Lee', 'year': 1960, 'genre': 'Fiction', 'rating': 4.9, 'language': 'English', 'country': 'USA'})]"
      ]
     },
     "execution_count": 15,
     "metadata": {},
     "output_type": "execute_result"
    }
   ],
   "source": [
    "retriever.invoke(\"What are two books that have a rating above 4.8\")"
   ]
  },
  {
   "cell_type": "code",
   "execution_count": 16,
   "metadata": {
    "id": "P5ahYRXet4ka"
   },
   "outputs": [
    {
     "data": {
      "text/plain": [
       "[Document(page_content='A complex, layered narrative exploring themes of identity and belonging', metadata={'title': 'The Namesake', 'author': 'Jhumpa Lahiri', 'year': 2003, 'genre': 'Fiction', 'rating': 4.5, 'language': 'English', 'country': 'USA'}),\n",
       " Document(page_content='An intense, gripping story with dark themes and intricate plot twists', metadata={'title': 'Gone Girl', 'author': 'Gillian Flynn', 'year': 2012, 'genre': 'Thriller', 'rating': 4.3, 'language': 'English', 'country': 'USA'})]"
      ]
     },
     "execution_count": 16,
     "metadata": {},
     "output_type": "execute_result"
    }
   ],
   "source": [
    "retriever.invoke(\"What are two books that come from USA or UK\")"
   ]
  },
  {
   "cell_type": "code",
   "execution_count": null,
   "metadata": {},
   "outputs": [],
   "source": []
  }
 ],
 "metadata": {
  "accelerator": "GPU",
  "colab": {
   "gpuType": "T4",
   "provenance": []
  },
  "kernelspec": {
   "display_name": "Python 3 (ipykernel)",
   "language": "python",
   "name": "python3"
  },
  "language_info": {
   "codemirror_mode": {
    "name": "ipython",
    "version": 3
   },
   "file_extension": ".py",
   "mimetype": "text/x-python",
   "name": "python",
   "nbconvert_exporter": "python",
   "pygments_lexer": "ipython3",
   "version": "3.11.7"
  }
 },
 "nbformat": 4,
 "nbformat_minor": 4
}
